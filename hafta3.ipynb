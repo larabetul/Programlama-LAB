{
 "cells": [
  {
   "cell_type": "code",
   "execution_count": 1,
   "metadata": {},
   "outputs": [
    {
     "name": "stdout",
     "output_type": "stream",
     "text": [
      "{0: 2, 5: 3, 25: 1, 100: 2}\n",
      "{0: 2, 5: 3, 25: 1, 100: 2}\n",
      "55\n",
      "0\n"
     ]
    }
   ],
   "source": [
    "# Dizi içersinde eleman sayısı bulma#\n",
    "\n",
    "liste_1 = [0,5,25,100,5,5,0,100]\n",
    "def my_h(liste_1):\n",
    "    my_d = {}\n",
    "    for i in liste_1:\n",
    "        if i in my_d:\n",
    "            my_d[i]=my_d[i] + 1\n",
    "        else:\n",
    "            my_d[i] = 1\n",
    "    return my_d\n",
    "print(my_h(liste_1))\n",
    "\n",
    "# dizi içersinde eleman sayısı bulma (2)#\n",
    "\n",
    "liste_1 = [0,5,25,100,5,5,0,100]\n",
    "def my_h(liste_1):\n",
    "    my_d = {}\n",
    "    for i  in liste_1:\n",
    "        if i not in my_d:\n",
    "           my_d[i] = 1\n",
    "        else:\n",
    "            my_d[i] +=1\n",
    "    return my_d\n",
    "print(my_h(liste_1))\n",
    "\n",
    "# Fibonacci hesaplama#\n",
    "\n",
    "known={0:0,1:1}\n",
    "def fibo_rec(n):\n",
    "    if n in known:\n",
    "        return known[n]\n",
    "    else:\n",
    "        result = fibo_rec(n-1) + fibo_rec(n-2)\n",
    "        known[n]=result\n",
    "        return result\n",
    "x=fibo_rec(10)\n",
    "print(x)\n",
    "\n",
    "\n",
    "\n",
    "# Gönderilen key'in listede varlığının kontrolü#\n",
    "def lookup(d,v):\n",
    "    for key in range(0,len(liste_1)):\n",
    "        if d[key]==v:\n",
    "            return 1\n",
    "    else:\n",
    "        return 0\n",
    "\n",
    "liste_1= [0,5,25,100,5,5,0,100]\n",
    "print(lookup(liste_1,5100))"
   ]
  },
  {
   "cell_type": "code",
   "execution_count": 2,
   "metadata": {},
   "outputs": [
    {
     "ename": "ImportError",
     "evalue": "cannot import name 'Finiteset' from 'sympy' (C:\\Users\\lenovo\\Anaconda3\\lib\\site-packages\\sympy\\__init__.py)",
     "output_type": "error",
     "traceback": [
      "\u001b[1;31m---------------------------------------------------------------------------\u001b[0m",
      "\u001b[1;31mImportError\u001b[0m                               Traceback (most recent call last)",
      "\u001b[1;32m<ipython-input-2-76cd33f21987>\u001b[0m in \u001b[0;36m<module>\u001b[1;34m\u001b[0m\n\u001b[1;32m----> 1\u001b[1;33m \u001b[1;32mfrom\u001b[0m \u001b[0msympy\u001b[0m \u001b[1;32mimport\u001b[0m \u001b[0mFiniteset\u001b[0m\u001b[1;33m\u001b[0m\u001b[1;33m\u001b[0m\u001b[0m\n\u001b[0m\u001b[0;32m      2\u001b[0m \u001b[1;33m\u001b[0m\u001b[0m\n\u001b[0;32m      3\u001b[0m \u001b[1;32mdef\u001b[0m \u001b[0mprobability\u001b[0m\u001b[1;33m(\u001b[0m\u001b[0mspace\u001b[0m\u001b[1;33m,\u001b[0m\u001b[0mevent\u001b[0m\u001b[1;33m)\u001b[0m\u001b[1;33m:\u001b[0m\u001b[1;33m\u001b[0m\u001b[1;33m\u001b[0m\u001b[0m\n\u001b[0;32m      4\u001b[0m     \u001b[1;32mreturn\u001b[0m \u001b[0mlen\u001b[0m\u001b[1;33m(\u001b[0m\u001b[0mevent\u001b[0m\u001b[1;33m)\u001b[0m\u001b[1;33m/\u001b[0m\u001b[0mlen\u001b[0m\u001b[1;33m(\u001b[0m\u001b[0mspace\u001b[0m\u001b[1;33m)\u001b[0m\u001b[1;33m\u001b[0m\u001b[1;33m\u001b[0m\u001b[0m\n\u001b[0;32m      5\u001b[0m \u001b[1;33m\u001b[0m\u001b[0m\n",
      "\u001b[1;31mImportError\u001b[0m: cannot import name 'Finiteset' from 'sympy' (C:\\Users\\lenovo\\Anaconda3\\lib\\site-packages\\sympy\\__init__.py)"
     ]
    }
   ],
   "source": [
    "from sympy import Finiteset\n",
    "\n",
    "def probability(space,event):\n",
    "    return len(event)/len(space)\n",
    "\n",
    "def check_prime(number):\n",
    "    if number!=1:\n",
    "        for i in range(2,number):\n",
    "            if number%i==0:\n",
    "                return False\n",
    "    else:\n",
    "        return False\n",
    "    return True\n",
    "\n",
    "space =Finiteset(*range(1,21))\n",
    "primes =[]\n",
    "for num in space:\n",
    "    if check_prime(num):\n",
    "        primes.append(num)\n",
    "event=Finiteset(*primes)\n",
    "p=probability(space,event)\n",
    "print(p)"
   ]
  },
  {
   "cell_type": "code",
   "execution_count": null,
   "metadata": {},
   "outputs": [],
   "source": []
  },
  {
   "cell_type": "code",
   "execution_count": null,
   "metadata": {},
   "outputs": [],
   "source": []
  }
 ],
 "metadata": {
  "kernelspec": {
   "display_name": "Python 3",
   "language": "python",
   "name": "python3"
  },
  "language_info": {
   "codemirror_mode": {
    "name": "ipython",
    "version": 3
   },
   "file_extension": ".py",
   "mimetype": "text/x-python",
   "name": "python",
   "nbconvert_exporter": "python",
   "pygments_lexer": "ipython3",
   "version": "3.7.4"
  }
 },
 "nbformat": 4,
 "nbformat_minor": 2
}
