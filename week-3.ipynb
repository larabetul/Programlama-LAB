{
 "cells": [
  {
   "cell_type": "code",
   "execution_count": 1,
   "metadata": {},
   "outputs": [
    {
     "name": "stdout",
     "output_type": "stream",
     "text": [
      "{0: 2, 5: 3, 25: 1, 100: 2}\n",
      "{0: 2, 5: 3, 25: 1, 100: 2}\n",
      "55\n",
      "0\n"
     ]
    }
   ],
   "source": [
    "# Dizi içersinde eleman sayısı bulma#\n",
    "\n",
    "liste_1 = [0,5,25,100,5,5,0,100]\n",
    "def my_h(liste_1):\n",
    "    my_d = {}\n",
    "    for i in liste_1:\n",
    "        if i in my_d:\n",
    "            my_d[i]=my_d[i] + 1\n",
    "        else:\n",
    "            my_d[i] = 1\n",
    "    return my_d\n",
    "print(my_h(liste_1))\n",
    "\n",
    "# dizi içersinde eleman sayısı bulma (2)#\n",
    "\n",
    "liste_1 = [0,5,25,100,5,5,0,100]\n",
    "def my_h(liste_1):\n",
    "    my_d = {}\n",
    "    for i  in liste_1:\n",
    "        if i not in my_d:\n",
    "           my_d[i] = 1\n",
    "        else:\n",
    "            my_d[i] +=1\n",
    "    return my_d\n",
    "print(my_h(liste_1))\n",
    "\n",
    "# Fibonacci hesaplama#\n",
    "\n",
    "known={0:0,1:1}\n",
    "def fibo_rec(n):\n",
    "    if n in known:\n",
    "        return known[n]\n",
    "    else:\n",
    "        result = fibo_rec(n-1) + fibo_rec(n-2)\n",
    "        known[n]=result\n",
    "        return result\n",
    "x=fibo_rec(10)\n",
    "print(x)\n",
    "\n",
    "# Gönderilen key'in listede varlığının kontrolü#\n",
    "def lookup(d,v):\n",
    "    for key in range(0,len(liste_1)):\n",
    "        if d[key]==v:\n",
    "            return 1\n",
    "    else:\n",
    "        return 0\n",
    "\n",
    "liste_1= [0,5,25,100,5,5,0,100]\n",
    "print(lookup(liste_1,5100))"
   ]
  },
  {
   "cell_type": "code",
   "execution_count": 2,
   "metadata": {},
   "outputs": [
    {
     "name": "stdout",
     "output_type": "stream",
     "text": [
      "0.4\n"
     ]
    }
   ],
   "source": [
    "from sympy import FiniteSet\n",
    "\n",
    "def probability(space,event):\n",
    "    return len(event)/len(space)\n",
    "\n",
    "def check_prime(number):\n",
    "    if number!=1:\n",
    "        for i in range(2,number):\n",
    "            if number%i==0:\n",
    "                return False\n",
    "    else:\n",
    "        return False\n",
    "    return True\n",
    "\n",
    "space =FiniteSet(*range(1,21))\n",
    "primes =[]\n",
    "for num in space:\n",
    "    if check_prime(num):\n",
    "        primes.append(num)\n",
    "event=FiniteSet(*primes)\n",
    "p=probability(space,event)\n",
    "print(p)"
   ]
  }
 ],
 "metadata": {
  "kernelspec": {
   "display_name": "Python 3",
   "language": "python",
   "name": "python3"
  },
  "language_info": {
   "codemirror_mode": {
    "name": "ipython",
    "version": 3
   },
   "file_extension": ".py",
   "mimetype": "text/x-python",
   "name": "python",
   "nbconvert_exporter": "python",
   "pygments_lexer": "ipython3",
   "version": "3.7.4"
  }
 },
 "nbformat": 4,
 "nbformat_minor": 2
}
