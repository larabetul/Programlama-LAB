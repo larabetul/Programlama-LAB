{
 "cells": [
  {
   "cell_type": "code",
   "execution_count": 17,
   "metadata": {},
   "outputs": [
    {
     "name": "stdout",
     "output_type": "stream",
     "text": [
      "  1  \n",
      "─────\n",
      "a - b\n"
     ]
    }
   ],
   "source": [
    "# Uniform distribution (tekdüze dağılım): X Random değişkeninin değişkenlik aralığı (a,b) olsun.\n",
    "# Başka bir ifadeyle, a=X'in alabileceği min. değer ve b=X'in alabileceği max. değer olsun.\n",
    "# Eğer (a,b) aralığı ile X'in olasılığı orantılı ise bu değişken uniform dağılıma sahiptir.\n",
    "# Böylece bu dağılım için olasılık yoğunluk fonksiyonu(probability density function) şu şekildedir:\n",
    "\n",
    "#       | 1 / (b - a)   ,  a<=x<= b      \\\n",
    "# f(x)= |   0           ,  x<a veya x>b  \\\n",
    "\n",
    "import sympy as sym    \n",
    "from sympy import Symbol\n",
    "from sympy import pprint\n",
    "from sympy import Piecewise  #parçalı fonksiyon kullanabilmek için çağırıyoruz. \n",
    "import sympy.plotting as syp\n",
    "import matplotlib.pyplot as plt\n",
    "%matplotlib inline\n",
    "\n",
    "a=Symbol('a')\n",
    "b=Symbol('b')\n",
    "x=Symbol('x')\n",
    "\n",
    "uniform=1/(a-b)  # dağılımda yer alan sayı aralığı a ve b sayıları arasında yer almaktadır.a max değer, b min değerdir.\n",
    "pprint(uniform) "
   ]
  },
  {
   "cell_type": "code",
   "execution_count": 18,
   "metadata": {},
   "outputs": [
    {
     "data": {
      "image/png": "[encoded data removed]",
      "text/plain": [
       "<Figure size 432x288 with 1 Axes>"
      ]
     },
     "metadata": {
      "needs_background": "light"
     },
     "output_type": "display_data"
    },
    {
     "data": {
      "text/plain": [
       "<sympy.plotting.plot.Plot at 0x19d6be9a108>"
      ]
     },
     "execution_count": 18,
     "metadata": {},
     "output_type": "execute_result"
    }
   ],
   "source": [
    "# sympy kütüphanesini kullanarak grafiğini çizdiriyoruz.\n",
    "\n",
    "min_deger=4\n",
    "max_deger=8\n",
    "if (min_deger>max_deger):\n",
    "        temp=max_deger\n",
    "        max_deger=min_deger\n",
    "        min_deger=temp\n",
    "#Piecewise fonksiyonunda virgülün sağ tarafına koşul, sol tarafına ise koşul sağlanınca yapılacak olan yazılır.\n",
    "syp.plot(Piecewise((0, (x<min_deger) | (x>max_deger)), (uniform.subs({a:max_deger, b:min_deger}), (x>=min_deger) & \n",
    "        (x<=max_deger))), (x, -10, 10), title=\"Uniform Distribution Graph\")"
   ]
  },
  {
   "cell_type": "code",
   "execution_count": 19,
   "metadata": {},
   "outputs": [
    {
     "data": {
      "text/plain": [
       "[<matplotlib.lines.Line2D at 0x19d70a85e88>]"
      ]
     },
     "execution_count": 19,
     "metadata": {},
     "output_type": "execute_result"
    },
    {
     "data": {
      "image/png": "[encoded data removed]",
      "text/plain": [
       "<Figure size 432x288 with 1 Axes>"
      ]
     },
     "metadata": {
      "needs_background": "light"
     },
     "output_type": "display_data"
    }
   ],
   "source": [
    "#normal klasik ( matpoltlib.pyplot) yöntem ile grafiğini çizdiriyoruz.\n",
    "\n",
    "x_values=[]\n",
    "y_values=[]\n",
    "uniform_function=Piecewise((0,(x<min_deger) | (x>max_deger)),(uniform.subs({a:max_deger,b:min_deger}),(x>=min_deger) &\n",
    "                                                                (x<=max_deger))).evalf()\n",
    "\n",
    "x_value=float(0)  #x değerlerini küçük aralıklarla arttırarak grafiği gerçeğine daha yakın yapmaya çalışıyoruz.\n",
    "while (x_value<10.0):\n",
    "    y=uniform_function.subs({x:x_value})\n",
    "    y_values.append(y)\n",
    "    x_values.append(x_value)\n",
    "    x_value+=0.1\n",
    "plt.plot(x_values,y_values)"
   ]
  },
  {
   "cell_type": "code",
   "execution_count": null,
   "metadata": {},
   "outputs": [],
   "source": []
  }
 ],
 "metadata": {
  "kernelspec": {
   "display_name": "Python 3",
   "language": "python",
   "name": "python3"
  },
  "language_info": {
   "codemirror_mode": {
    "name": "ipython",
    "version": 3
   },
   "file_extension": ".py",
   "mimetype": "text/x-python",
   "name": "python",
   "nbconvert_exporter": "python",
   "pygments_lexer": "ipython3",
   "version": "3.7.4"
  }
 },
 "nbformat": 4,
 "nbformat_minor": 2
}
