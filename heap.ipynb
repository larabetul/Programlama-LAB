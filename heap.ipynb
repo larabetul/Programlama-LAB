{
 "cells": [
  {
   "cell_type": "code",
   "execution_count": 8,
   "metadata": {},
   "outputs": [],
   "source": [
    "def min_heapify(array,i):\n",
    "    left=2*i+1\n",
    "    right=2*i+2\n",
    "    lenght=len(array)-1\n",
    "    smallest=i\n",
    "    if left<=lenght and array[i]>array[left]:\n",
    "        smallest=left\n",
    "    if right<=lenght and array[smallest]>array[right]:\n",
    "        smallest=right\n",
    "    if smallest!=i:\n",
    "        array[i],array[smallest]=array[smallest],array[i]\n",
    "        min_heapify(array,smallest)"
   ]
  },
  {
   "cell_type": "code",
   "execution_count": 16,
   "metadata": {},
   "outputs": [],
   "source": [
    "def build_min_heap(array):\n",
    "    for i in reversed(range(len(array)//2)):\n",
    "        min_heapify(array,i)"
   ]
  },
  {
   "cell_type": "code",
   "execution_count": 17,
   "metadata": {},
   "outputs": [],
   "source": [
    "my_array_1=[8,10,3,4,7,15,1,2,16]"
   ]
  },
  {
   "cell_type": "code",
   "execution_count": 18,
   "metadata": {},
   "outputs": [],
   "source": [
    "build_min_heap(my_array_1)"
   ]
  },
  {
   "cell_type": "code",
   "execution_count": 19,
   "metadata": {},
   "outputs": [
    {
     "data": {
      "text/plain": [
       "[1, 2, 3, 4, 7, 15, 8, 10, 16]"
      ]
     },
     "execution_count": 19,
     "metadata": {},
     "output_type": "execute_result"
    }
   ],
   "source": [
    "my_array_1"
   ]
  },
  {
   "cell_type": "code",
   "execution_count": 20,
   "metadata": {},
   "outputs": [],
   "source": [
    "def heapsort(array):\n",
    "    array=array.copy()\n",
    "    build_min_heap(array)\n",
    "    sorted_array=[]\n",
    "    for _ in range(len(array)):\n",
    "        array[0], array[-1] = array[-1], array[0]\n",
    "        sorted_array.append(array.pop())\n",
    "        min_heapify(array,0)\n",
    "    return sorted_array"
   ]
  },
  {
   "cell_type": "code",
   "execution_count": 21,
   "metadata": {},
   "outputs": [
    {
     "data": {
      "text/plain": [
       "([8, 10, 3, 4, 7, 15, 1, 2, 16], [1, 2, 3, 4, 7, 8, 10, 15, 16])"
      ]
     },
     "execution_count": 21,
     "metadata": {},
     "output_type": "execute_result"
    }
   ],
   "source": [
    "my_array_1=[8,10,3,4,7,15,1,2,16]\n",
    "my_array_2=heapsort(my_array_1)\n",
    "my_array_1, my_array_2"
   ]
  },
  {
   "cell_type": "code",
   "execution_count": 71,
   "metadata": {},
   "outputs": [],
   "source": [
    "def insertItemToHeap(array,key):\n",
    "    length=len(array)\n",
    "    if length==0 :\n",
    "        array.append(key)\n",
    "        return array\n",
    "    else:\n",
    "        for item in array:\n",
    "            if item==key:\n",
    "                print(\"bu eleman heap de var\")\n",
    "                return array\n",
    "        array.append(key)\n",
    "        build_min_heap(array)\n",
    "        return array"
   ]
  },
  {
   "cell_type": "code",
   "execution_count": 72,
   "metadata": {},
   "outputs": [
    {
     "data": {
      "text/plain": [
       "[1, 2, 3, 4, 6, 8, 10, 15, 16, 7]"
      ]
     },
     "execution_count": 72,
     "metadata": {},
     "output_type": "execute_result"
    }
   ],
   "source": [
    "my_array_2=[1, 2, 3, 4, 7, 8, 10, 15, 16]\n",
    "my_array=insertItemToHeap(my_array_2,6)\n",
    "my_array"
   ]
  },
  {
   "cell_type": "code",
   "execution_count": 73,
   "metadata": {},
   "outputs": [
    {
     "name": "stdout",
     "output_type": "stream",
     "text": [
      "bu eleman heap de var\n"
     ]
    },
    {
     "data": {
      "text/plain": [
       "[1, 2, 3, 4, 7, 8, 10, 15, 16]"
      ]
     },
     "execution_count": 73,
     "metadata": {},
     "output_type": "execute_result"
    }
   ],
   "source": [
    "my_array_2=[1, 2, 3, 4, 7, 8, 10, 15, 16]\n",
    "my_array=insertItemToHeap(my_array_2,15)\n",
    "my_array"
   ]
  },
  {
   "cell_type": "code",
   "execution_count": 82,
   "metadata": {},
   "outputs": [],
   "source": [
    "def removeItemFrom(array,key):\n",
    "    length = len(array)\n",
    "    if length == 0:\n",
    "        print(\"Heap boş\")\n",
    "        return\n",
    "    else:\n",
    "        a=0\n",
    "        for item in array:\n",
    "            if item==key:\n",
    "                a=1\n",
    "        if a==0:\n",
    "            print(\"Bu eleman heap de yok\")\n",
    "            return array\n",
    "        array.remove(key)\n",
    "        build_min_heap(array)\n",
    "        return array"
   ]
  },
  {
   "cell_type": "code",
   "execution_count": 85,
   "metadata": {},
   "outputs": [
    {
     "data": {
      "text/plain": [
       "[1, 2, 3, 4, 8, 10, 15, 16]"
      ]
     },
     "execution_count": 85,
     "metadata": {},
     "output_type": "execute_result"
    }
   ],
   "source": [
    "my_array_2=[1, 2, 3, 4, 7, 8, 10, 15, 16]\n",
    "my_array=removeItemFrom(my_array_2,7)\n",
    "my_array"
   ]
  },
  {
   "cell_type": "code",
   "execution_count": 86,
   "metadata": {},
   "outputs": [
    {
     "name": "stdout",
     "output_type": "stream",
     "text": [
      "Bu eleman heap de yok\n"
     ]
    },
    {
     "data": {
      "text/plain": [
       "[1, 2, 3, 4, 7, 8, 10, 15, 16]"
      ]
     },
     "execution_count": 86,
     "metadata": {},
     "output_type": "execute_result"
    }
   ],
   "source": [
    "my_array_2=[1, 2, 3, 4, 7, 8, 10, 15, 16]\n",
    "my_array=removeItemFrom(my_array_2,13)\n",
    "my_array"
   ]
  },
  {
   "cell_type": "code",
   "execution_count": null,
   "metadata": {},
   "outputs": [],
   "source": []
  }
 ],
 "metadata": {
  "kernelspec": {
   "display_name": "Python 3",
   "language": "python",
   "name": "python3"
  },
  "language_info": {
   "codemirror_mode": {
    "name": "ipython",
    "version": 3
   },
   "file_extension": ".py",
   "mimetype": "text/x-python",
   "name": "python",
   "nbconvert_exporter": "python",
   "pygments_lexer": "ipython3",
   "version": "3.7.4"
  }
 },
 "nbformat": 4,
 "nbformat_minor": 2
}
